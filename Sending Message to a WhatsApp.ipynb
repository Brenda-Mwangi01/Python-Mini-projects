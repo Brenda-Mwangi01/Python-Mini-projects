{
 "cells": [
  {
   "cell_type": "code",
   "execution_count": 3,
   "metadata": {},
   "outputs": [
    {
     "name": "stdout",
     "output_type": "stream",
     "text": [
      "In 30 Seconds WhatsApp will open and after 15 Seconds Message will be Delivered!\n"
     ]
    }
   ],
   "source": [
    "import pywhatkit\n",
    "\n",
    "# Send a WhatsApp Message to a Contact at 1:30 PM\n",
    "pywhatkit.sendwhatmsg(\"+254701338348\", \"My code is running\", 21, 6)"
   ]
  },
  {
   "cell_type": "code",
   "execution_count": 1,
   "metadata": {},
   "outputs": [
    {
     "name": "stdout",
     "output_type": "stream",
     "text": [
      "In 8 Seconds WhatsApp will open and after 15 Seconds Message will be Delivered!\n",
      "In 86383 Seconds WhatsApp will open and after 15 Seconds Message will be Delivered!\n"
     ]
    }
   ],
   "source": [
    "import pywhatkit\n",
    "\n",
    "# Send a WhatsApp Message to a Contact at 1:30 PM\n",
    "pywhatkit.sendwhatmsg(\"+254777473820\", \"Hello Rose.\", 19, 9)\n",
    "pywhatkit.sendwhatmsg(\"+254777473820\", \"I'm Brenda Mwangi, campus ambassador Multimedia University of Kenya.\", 19, 10)\n",
    "pywhatkit.sendwhatmsg(\"+254777473820\", \"I filled a form for a hackathon on 20th and I have not received any feedback.\", 19, 12)\n",
    "pywhatkit.sendwhatmsg(\"+254777473820\", \"Could I please get a feedback, since I was setting the hackathon to start on 25th.\", 19, 14)\n",
    "\n"
   ]
  },
  {
   "cell_type": "code",
   "execution_count": 2,
   "metadata": {},
   "outputs": [
    {
     "name": "stdout",
     "output_type": "stream",
     "text": [
      "In 86384 Seconds WhatsApp will open and after 15 Seconds Message will be Delivered!\n"
     ]
    }
   ],
   "source": [
    "import pywhatkit\n",
    "\n",
    "# Send a WhatsApp Message to a Contact at 1:30 \n",
    "# PM\n",
    "pywhatkit.sendwhatmsg(\"+254756615906\", \"I'm Brenda Mwangi, campus ambassador Multimedia University of Kenya.\", 18, 7)"
   ]
  },
  {
   "cell_type": "code",
   "execution_count": null,
   "metadata": {},
   "outputs": [],
   "source": [
    "import pywhatkit\n",
    "\n",
    "# Send a WhatsApp Message to a Contact at 1:30 PM\n",
    "pywhatkit.sendwhatmsg(\"+254756615906\", \"I filled a form for a hackathon on 20th \", 18, 7)"
   ]
  }
 ],
 "metadata": {
  "kernelspec": {
   "display_name": "Python 3.9.12 ('base')",
   "language": "python",
   "name": "python3"
  },
  "language_info": {
   "codemirror_mode": {
    "name": "ipython",
    "version": 3
   },
   "file_extension": ".py",
   "mimetype": "text/x-python",
   "name": "python",
   "nbconvert_exporter": "python",
   "pygments_lexer": "ipython3",
   "version": "3.9.12 (main, Apr  4 2022, 05:22:27) [MSC v.1916 64 bit (AMD64)]"
  },
  "orig_nbformat": 4,
  "vscode": {
   "interpreter": {
    "hash": "263930470851f494f0ed2879c35b57985588df20f9e529b86e97dd5eb9ddc466"
   }
  }
 },
 "nbformat": 4,
 "nbformat_minor": 2
}
