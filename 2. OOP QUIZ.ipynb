{
 "cells": [
  {
   "cell_type": "markdown",
   "id": "1fc7d9d2",
   "metadata": {},
   "source": [
    "![openclassrooms](https://s3.eu-west-1.amazonaws.com/course.oc-static.com/courses/6204541/1+HnqdJ-5ofxiPP9HIxdNdpw.jpeg)\n",
    "\n",
    "# Learn Python Basics for Data Analysis\n",
    "\n",
    "## Object-oriented Programming\n",
    "\n",
    "<br><br>\n",
    "\n",
    "**String Methods**\n",
    "\n",
    "Let the variable `mySentence` be the following:\n"
   ]
  },
  {
   "cell_type": "code",
   "execution_count": 1,
   "id": "b2649298",
   "metadata": {},
   "outputs": [],
   "source": [
    "mySentence = 'I AM EXCITED!!'"
   ]
  },
  {
   "cell_type": "markdown",
   "id": "8415a4e8",
   "metadata": {},
   "source": [
    "Use a string method to transform the variable `mySentence` to lowercase:"
   ]
  },
  {
   "cell_type": "code",
   "execution_count": 3,
   "id": "75a643f7",
   "metadata": {},
   "outputs": [
    {
     "data": {
      "text/plain": [
       "'i am excited!!'"
      ]
     },
     "execution_count": 3,
     "metadata": {},
     "output_type": "execute_result"
    }
   ],
   "source": [
    "mySentence.lower()"
   ]
  },
  {
   "cell_type": "markdown",
   "id": "51408b36",
   "metadata": {},
   "source": [
    "Replace the **...** with an expression that uses the `mySentence` variable to print: `I am calm!!`\n"
   ]
  },
  {
   "cell_type": "code",
   "execution_count": 7,
   "id": "8d9c1120",
   "metadata": {},
   "outputs": [
    {
     "name": "stdout",
     "output_type": "stream",
     "text": [
      "I am calm!!\n"
     ]
    }
   ],
   "source": [
    "print(mySentence.lower().replace(\"excited\", \"calm\").capitalize())"
   ]
  }
 ],
 "metadata": {
  "kernelspec": {
   "display_name": "Python 3 (ipykernel)",
   "language": "python",
   "name": "python3"
  },
  "language_info": {
   "codemirror_mode": {
    "name": "ipython",
    "version": 3
   },
   "file_extension": ".py",
   "mimetype": "text/x-python",
   "name": "python",
   "nbconvert_exporter": "python",
   "pygments_lexer": "ipython3",
   "version": "3.9.12"
  }
 },
 "nbformat": 4,
 "nbformat_minor": 5
}
