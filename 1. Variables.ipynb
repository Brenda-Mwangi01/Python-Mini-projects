{
 "cells": [
  {
   "cell_type": "markdown",
   "id": "801fdb9f",
   "metadata": {},
   "source": [
    "![openclassrooms](https://s3.eu-west-1.amazonaws.com/course.oc-static.com/courses/6204541/1+HnqdJ-5ofxiPP9HIxdNdpw.jpeg)\n",
    "\n",
    "# Learn Python Basics for Data Analysis\n",
    "\n",
    "## Declare a Variable\n",
    "\n",
    "1. Run the following code to print the value of our savings\n",
    "2. Modify the line `savings = savings + 500` below the `# TO DO` comment, using the simplified operator `+=`\n",
    "3. Run the code again to see the result of the calculation\n"
   ]
  },
  {
   "cell_type": "code",
   "execution_count": 1,
   "id": "79ef0864",
   "metadata": {},
   "outputs": [
    {
     "name": "stdout",
     "output_type": "stream",
     "text": [
      "Your savings are:  3500\n"
     ]
    }
   ],
   "source": [
    "account = 200\n",
    "savings = 3000\n",
    "    \n",
    "# TO DO: modify the following line with the simplified operator +=\n",
    "savings = savings + 500\n",
    "\n",
    "print(\"Your savings are: \",savings)"
   ]
  }
 ],
 "metadata": {
  "kernelspec": {
   "display_name": "Python 3 (ipykernel)",
   "language": "python",
   "name": "python3"
  },
  "language_info": {
   "codemirror_mode": {
    "name": "ipython",
    "version": 3
   },
   "file_extension": ".py",
   "mimetype": "text/x-python",
   "name": "python",
   "nbconvert_exporter": "python",
   "pygments_lexer": "ipython3",
   "version": "3.9.12"
  }
 },
 "nbformat": 4,
 "nbformat_minor": 5
}
